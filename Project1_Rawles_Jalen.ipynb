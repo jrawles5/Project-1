{
 "cells": [
  {
   "cell_type": "code",
   "execution_count": 11,
   "metadata": {
    "scrolled": true
   },
   "outputs": [
    {
     "name": "stdout",
     "output_type": "stream",
     "text": [
      "Choose an operation:\n",
      "1 for Addition\n",
      "2 for Subtraction\n",
      "3 for Multiplication\n",
      "4 for Division\n",
      "Chose option(1/2/3/4): 5\n",
      "Enter first number: 5\n",
      "Enter second number: 5\n",
      "Invalid input: Select operation 1, 2, 3, or 4\n"
     ]
    }
   ],
   "source": [
    "#Python Basic Calculator\n",
    "#Initial Prompt for user\n",
    "print(\"Choose an operation:\")\n",
    "print(\"1 for Addition\")\n",
    "print(\"2 for Subtraction\")\n",
    "print(\"3 for Multiplication\")\n",
    "print(\"4 for Division\")\n",
    "\n",
    "#This set of code defines the functions for the different operations\n",
    "def addition(num1, num2):\n",
    "    return num1 + num2\n",
    "def subtraction(num1, num2):\n",
    "    return num1 - num2\n",
    "def multiplication(num1, num2):\n",
    "    return num1 * num2\n",
    "def division(num1, num2):\n",
    "    return num1 / num2\n",
    "\n",
    "#User selects and operation and inputs the numbers they wish to compute with\n",
    "operation = input(\"Chose option(1/2/3/4): \")\n",
    "\n",
    "num1 = float(input(\"Enter first number: \"))\n",
    "num2 = float(input(\"Enter second number: \"))\n",
    "\n",
    "#Python checks for which operation the user chose and prints the answer based on which operation they chose\n",
    "if operation == '1':\n",
    "    print(num1, \"+\", num2, \"=\",\n",
    "         addition(num1, num2))\n",
    "elif operation == '2':\n",
    "    print(num1, \"-\", num2, \"=\",\n",
    "         subtraction(num1, num2))\n",
    "elif operation == '3':\n",
    "    print(num1, \"*\", num2, \"=\",\n",
    "         multiplication(num1, num2))\n",
    "elif operation == '4':\n",
    "    print(num1, \"/\", num2, \"=\",\n",
    "         division(num1, num2))\n",
    "else:\n",
    "    print(\"Invalid input: Select operation 1, 2, 3, or 4\")\n",
    "    \n",
    "    \n"
   ]
  }
 ],
 "metadata": {
  "kernelspec": {
   "display_name": "Python 3",
   "language": "python",
   "name": "python3"
  },
  "language_info": {
   "codemirror_mode": {
    "name": "ipython",
    "version": 3
   },
   "file_extension": ".py",
   "mimetype": "text/x-python",
   "name": "python",
   "nbconvert_exporter": "python",
   "pygments_lexer": "ipython3",
   "version": "3.8.5"
  }
 },
 "nbformat": 4,
 "nbformat_minor": 4
}
